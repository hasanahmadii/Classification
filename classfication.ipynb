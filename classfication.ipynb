{
 "cells": [
  {
   "cell_type": "markdown",
   "id": "f2e0ed5b-eaf1-4af7-8e73-826ac9f704b1",
   "metadata": {},
   "source": [
    "# در این برنامه ما از روی داده های که داریم میخوایم کلاس بندی رو انجام بدیم که به دو کلاس تقسیم میکنیم "
   ]
  },
  {
   "cell_type": "markdown",
   "id": "25df8953-f11b-420f-bf79-25fb1dd40302",
   "metadata": {},
   "source": [
    "### کتاب خانه های مورد استفاده رو ابتدا ایمپورت میکنیم"
   ]
  },
  {
   "cell_type": "code",
   "execution_count": 6,
   "id": "42e9b086-db96-4b52-9ed6-49942bc0df44",
   "metadata": {},
   "outputs": [],
   "source": [
    "import pandas as pd\n",
    "import matplotlib.pyplot as plt\n",
    "import numpy as np\n",
    "from sklearn.metrics import f1_score, jaccard_score, log_loss\n",
    "from sklearn.model_selection import train_test_split\n",
    "from sklearn import preprocessing\n",
    "from sklearn.neighbors import KNeighborsClassifier\n",
    "from sklearn.metrics import accuracy_score"
   ]
  },
  {
   "cell_type": "markdown",
   "id": "fc75857b-cc90-4e23-a0de-69f7f80a5ce7",
   "metadata": {},
   "source": [
    "### دیتا ست مورد نظر رو ابتدا وارد میکنیم "
   ]
  },
  {
   "cell_type": "code",
   "execution_count": 8,
   "id": "f85bda8f-ddd7-4056-93b2-ec80ec2c39d0",
   "metadata": {},
   "outputs": [
    {
     "data": {
      "text/html": [
       "<div>\n",
       "<style scoped>\n",
       "    .dataframe tbody tr th:only-of-type {\n",
       "        vertical-align: middle;\n",
       "    }\n",
       "\n",
       "    .dataframe tbody tr th {\n",
       "        vertical-align: top;\n",
       "    }\n",
       "\n",
       "    .dataframe thead th {\n",
       "        text-align: right;\n",
       "    }\n",
       "</style>\n",
       "<table border=\"1\" class=\"dataframe\">\n",
       "  <thead>\n",
       "    <tr style=\"text-align: right;\">\n",
       "      <th></th>\n",
       "      <th>age</th>\n",
       "      <th>sex</th>\n",
       "      <th>cp</th>\n",
       "      <th>trtbps</th>\n",
       "      <th>chol</th>\n",
       "      <th>fbs</th>\n",
       "      <th>restecg</th>\n",
       "      <th>thalachh</th>\n",
       "      <th>exng</th>\n",
       "      <th>oldpeak</th>\n",
       "      <th>slp</th>\n",
       "      <th>caa</th>\n",
       "      <th>thall</th>\n",
       "      <th>output</th>\n",
       "    </tr>\n",
       "  </thead>\n",
       "  <tbody>\n",
       "    <tr>\n",
       "      <th>0</th>\n",
       "      <td>63</td>\n",
       "      <td>1</td>\n",
       "      <td>3</td>\n",
       "      <td>145</td>\n",
       "      <td>233</td>\n",
       "      <td>1</td>\n",
       "      <td>0</td>\n",
       "      <td>150</td>\n",
       "      <td>0</td>\n",
       "      <td>2.3</td>\n",
       "      <td>0</td>\n",
       "      <td>0</td>\n",
       "      <td>1</td>\n",
       "      <td>1</td>\n",
       "    </tr>\n",
       "    <tr>\n",
       "      <th>1</th>\n",
       "      <td>37</td>\n",
       "      <td>1</td>\n",
       "      <td>2</td>\n",
       "      <td>130</td>\n",
       "      <td>250</td>\n",
       "      <td>0</td>\n",
       "      <td>1</td>\n",
       "      <td>187</td>\n",
       "      <td>0</td>\n",
       "      <td>3.5</td>\n",
       "      <td>0</td>\n",
       "      <td>0</td>\n",
       "      <td>2</td>\n",
       "      <td>1</td>\n",
       "    </tr>\n",
       "    <tr>\n",
       "      <th>2</th>\n",
       "      <td>41</td>\n",
       "      <td>0</td>\n",
       "      <td>1</td>\n",
       "      <td>130</td>\n",
       "      <td>204</td>\n",
       "      <td>0</td>\n",
       "      <td>0</td>\n",
       "      <td>172</td>\n",
       "      <td>0</td>\n",
       "      <td>1.4</td>\n",
       "      <td>2</td>\n",
       "      <td>0</td>\n",
       "      <td>2</td>\n",
       "      <td>1</td>\n",
       "    </tr>\n",
       "    <tr>\n",
       "      <th>3</th>\n",
       "      <td>56</td>\n",
       "      <td>1</td>\n",
       "      <td>1</td>\n",
       "      <td>120</td>\n",
       "      <td>236</td>\n",
       "      <td>0</td>\n",
       "      <td>1</td>\n",
       "      <td>178</td>\n",
       "      <td>0</td>\n",
       "      <td>0.8</td>\n",
       "      <td>2</td>\n",
       "      <td>0</td>\n",
       "      <td>2</td>\n",
       "      <td>1</td>\n",
       "    </tr>\n",
       "    <tr>\n",
       "      <th>4</th>\n",
       "      <td>57</td>\n",
       "      <td>0</td>\n",
       "      <td>0</td>\n",
       "      <td>120</td>\n",
       "      <td>354</td>\n",
       "      <td>0</td>\n",
       "      <td>1</td>\n",
       "      <td>163</td>\n",
       "      <td>1</td>\n",
       "      <td>0.6</td>\n",
       "      <td>2</td>\n",
       "      <td>0</td>\n",
       "      <td>2</td>\n",
       "      <td>1</td>\n",
       "    </tr>\n",
       "  </tbody>\n",
       "</table>\n",
       "</div>"
      ],
      "text/plain": [
       "   age  sex  cp  trtbps  chol  fbs  restecg  thalachh  exng  oldpeak  slp  \\\n",
       "0   63    1   3     145   233    1        0       150     0      2.3    0   \n",
       "1   37    1   2     130   250    0        1       187     0      3.5    0   \n",
       "2   41    0   1     130   204    0        0       172     0      1.4    2   \n",
       "3   56    1   1     120   236    0        1       178     0      0.8    2   \n",
       "4   57    0   0     120   354    0        1       163     1      0.6    2   \n",
       "\n",
       "   caa  thall  output  \n",
       "0    0      1       1  \n",
       "1    0      2       1  \n",
       "2    0      2       1  \n",
       "3    0      2       1  \n",
       "4    0      2       1  "
      ]
     },
     "execution_count": 8,
     "metadata": {},
     "output_type": "execute_result"
    }
   ],
   "source": [
    "data = pd.read_csv('16325569497737558.csv')\n",
    "data.head()"
   ]
  },
  {
   "cell_type": "markdown",
   "id": "09ff6472-9881-4ef2-b3a7-d212499a5c77",
   "metadata": {},
   "source": [
    "### کلاس های که داریم رو میتونیم از روی کلاس هدف مشاهده کنیم در اینجا ما دو کلاس داریم"
   ]
  },
  {
   "cell_type": "code",
   "execution_count": 9,
   "id": "63d4ddcb-647b-4f11-a4ce-3fc84dc92b77",
   "metadata": {},
   "outputs": [
    {
     "data": {
      "text/plain": [
       "output\n",
       "1    165\n",
       "0    138\n",
       "Name: count, dtype: int64"
      ]
     },
     "execution_count": 9,
     "metadata": {},
     "output_type": "execute_result"
    }
   ],
   "source": [
    "data['output'].value_counts()"
   ]
  },
  {
   "cell_type": "markdown",
   "id": "29f87875-c622-4d1b-b870-47a55e9db563",
   "metadata": {},
   "source": [
    "### و برای اشنایی بیشتر و درک بهتر داده ها اون هارو رسم میکنیم "
   ]
  },
  {
   "cell_type": "code",
   "execution_count": 10,
   "id": "83b76178-1dcb-4088-a22a-d5a39576ff55",
   "metadata": {},
   "outputs": [
    {
     "data": {
      "text/plain": [
       "array([[<Axes: title={'center': 'thalachh'}>]], dtype=object)"
      ]
     },
     "execution_count": 10,
     "metadata": {},
     "output_type": "execute_result"
    },
    {
     "data": {
      "image/png": "[encoded data removed]",
      "text/plain": [
       "<Figure size 640x480 with 1 Axes>"
      ]
     },
     "metadata": {},
     "output_type": "display_data"
    }
   ],
   "source": [
    "data.hist(column='thalachh', bins=50)"
   ]
  },
  {
   "cell_type": "markdown",
   "id": "de3856a6-029f-4d8f-a3e6-96afb0a4552e",
   "metadata": {},
   "source": [
    "###  با این دستور میتونیم تمامی ستون های موجود درون دیتا ست مورد نظر رو مشاهده کنیم"
   ]
  },
  {
   "cell_type": "code",
   "execution_count": 11,
   "id": "0975f48b-4ff6-451f-8dab-7176fc27da81",
   "metadata": {},
   "outputs": [
    {
     "data": {
      "text/plain": [
       "Index(['age', 'sex', 'cp', 'trtbps', 'chol', 'fbs', 'restecg', 'thalachh',\n",
       "       'exng', 'oldpeak', 'slp', 'caa', 'thall', 'output'],\n",
       "      dtype='object')"
      ]
     },
     "execution_count": 11,
     "metadata": {},
     "output_type": "execute_result"
    }
   ],
   "source": [
    "data.columns"
   ]
  },
  {
   "cell_type": "markdown",
   "id": "d494fc06-d18b-4381-af52-1705b73a6136",
   "metadata": {},
   "source": [
    "### داده هامون رو به دو دسته جدا میکنیم "
   ]
  },
  {
   "cell_type": "code",
   "execution_count": 12,
   "id": "d7f3b8c9-47c9-4010-82d4-e47edd56671d",
   "metadata": {},
   "outputs": [],
   "source": [
    "X = data[['age', 'sex', 'cp', 'trtbps', 'chol', 'fbs', 'restecg', 'thalachh','exng', 'oldpeak', 'slp', 'caa', 'thall',]].values\n",
    "y = data[['output']].values"
   ]
  },
  {
   "cell_type": "markdown",
   "id": "abdcef65-5ab0-466a-810e-595e664b6403",
   "metadata": {},
   "source": [
    "### سپس داده هامون رو نرمال سازی میکنیم تا اختلاف بین داده های بزرگ و کوچیک رو کم کنیم "
   ]
  },
  {
   "cell_type": "code",
   "execution_count": 13,
   "id": "7b3c5a5e-a879-4854-92ff-bc0a1cecb0de",
   "metadata": {},
   "outputs": [],
   "source": [
    "scaler = preprocessing.StandardScaler().fit(X)\n",
    "X = scaler.transform(X.astype(float))"
   ]
  },
  {
   "cell_type": "markdown",
   "id": "d06b44d1-be3c-4da3-afd5-0fe872965f0b",
   "metadata": {},
   "source": [
    "### حالا از روی داده های که داریم و نرمال سازی کردیم ماشین خودمون رو اموزش میدیم "
   ]
  },
  {
   "cell_type": "code",
   "execution_count": 14,
   "id": "348f16c1-46be-4e56-8f0a-ed4d59aca284",
   "metadata": {},
   "outputs": [
    {
     "name": "stdout",
     "output_type": "stream",
     "text": [
      "0.9032258064516129\n"
     ]
    },
    {
     "name": "stderr",
     "output_type": "stream",
     "text": [
      "/home/eugene/anaconda3/lib/python3.11/site-packages/sklearn/neighbors/_classification.py:215: DataConversionWarning: A column-vector y was passed when a 1d array was expected. Please change the shape of y to (n_samples,), for example using ravel().\n",
      "  return self._fit(X, y)\n"
     ]
    }
   ],
   "source": [
    "k = 5\n",
    "train_x, test_x, train_y, test_y = train_test_split(X, y, test_size=0.1, random_state=5)\n",
    "model = KNeighborsClassifier(n_neighbors=k).fit(train_x, train_y)\n",
    "predicted = model.predict(test_x)\n",
    "print (accuracy_score(test_y, predicted))"
   ]
  },
  {
   "cell_type": "markdown",
   "id": "bff4b388-974a-491d-abd7-0a630838ad05",
   "metadata": {},
   "source": [
    "### و در این قسمت هم داده های که تست روشون انجام شده در برسی  میکنیم با مقدار واقعی "
   ]
  },
  {
   "cell_type": "code",
   "execution_count": 15,
   "id": "1ccfc4c3-038c-4c06-9299-294b9e15e3dd",
   "metadata": {},
   "outputs": [
    {
     "name": "stdout",
     "output_type": "stream",
     "text": [
      "Real : [0] predicted : 1 \n",
      "*******************************************************\n",
      "Real : [0] predicted : 0 \n",
      "*******************************************************\n",
      "Real : [0] predicted : 0 \n",
      "*******************************************************\n",
      "Real : [0] predicted : 0 \n",
      "*******************************************************\n",
      "Real : [1] predicted : 1 \n",
      "*******************************************************\n",
      "Real : [0] predicted : 0 \n",
      "*******************************************************\n",
      "Real : [1] predicted : 1 \n",
      "*******************************************************\n",
      "Real : [0] predicted : 0 \n",
      "*******************************************************\n",
      "Real : [1] predicted : 1 \n",
      "*******************************************************\n",
      "Real : [1] predicted : 1 \n",
      "*******************************************************\n",
      "Real : [1] predicted : 1 \n",
      "*******************************************************\n",
      "Real : [0] predicted : 0 \n",
      "*******************************************************\n",
      "Real : [1] predicted : 1 \n",
      "*******************************************************\n",
      "Real : [1] predicted : 1 \n",
      "*******************************************************\n",
      "Real : [0] predicted : 0 \n",
      "*******************************************************\n",
      "Real : [0] predicted : 1 \n",
      "*******************************************************\n",
      "Real : [0] predicted : 0 \n",
      "*******************************************************\n",
      "Real : [0] predicted : 0 \n",
      "*******************************************************\n",
      "Real : [1] predicted : 1 \n",
      "*******************************************************\n",
      "Real : [0] predicted : 0 \n",
      "*******************************************************\n",
      "Real : [0] predicted : 0 \n",
      "*******************************************************\n",
      "Real : [0] predicted : 0 \n",
      "*******************************************************\n",
      "Real : [1] predicted : 1 \n",
      "*******************************************************\n",
      "Real : [0] predicted : 0 \n",
      "*******************************************************\n",
      "Real : [1] predicted : 0 \n",
      "*******************************************************\n",
      "Real : [1] predicted : 1 \n",
      "*******************************************************\n",
      "Real : [1] predicted : 1 \n",
      "*******************************************************\n",
      "Real : [1] predicted : 1 \n",
      "*******************************************************\n",
      "Real : [1] predicted : 1 \n",
      "*******************************************************\n",
      "Real : [0] predicted : 0 \n",
      "*******************************************************\n",
      "Real : [1] predicted : 1 \n",
      "*******************************************************\n"
     ]
    }
   ],
   "source": [
    "for i in range(len(predicted)):\n",
    "    print(f\"Real : {test_y[i]} predicted : {predicted[i]} \")\n",
    "    print(\"*******************************************************\")"
   ]
  },
  {
   "cell_type": "markdown",
   "id": "fa3e4927-405d-4353-a9fc-c1bbb8b6cfbc",
   "metadata": {},
   "source": [
    "### و در این قسمت هم از مدل خروجی گرفتیم که بتوان در اینده روی داده های دیگه ازش خروجی گرفت "
   ]
  },
  {
   "cell_type": "code",
   "execution_count": 16,
   "id": "3d8d6ccc-44e1-4e37-bc4e-ba95b355e609",
   "metadata": {},
   "outputs": [
    {
     "data": {
      "text/plain": [
       "['classification.pk1']"
      ]
     },
     "execution_count": 16,
     "metadata": {},
     "output_type": "execute_result"
    }
   ],
   "source": [
    "import joblib\n",
    "joblib.dump(model, 'classification.pk1')"
   ]
  },
  {
   "cell_type": "code",
   "execution_count": 24,
   "id": "17ae4dd0-7528-4196-9352-2f73b5000045",
   "metadata": {},
   "outputs": [],
   "source": [
    "nx = [[0, 63 ,1 ,3, 145, 233, 1, 0 ,150, 2.3, 0, 0, 1]]\n",
    "scaler = preprocessing.StandardScaler().fit(nx)\n",
    "nxs = scaler.transform(nx)"
   ]
  },
  {
   "cell_type": "code",
   "execution_count": 22,
   "id": "dfae80d9-f44e-47ec-9a4a-9d59265732c2",
   "metadata": {},
   "outputs": [
    {
     "data": {
      "text/plain": [
       "array([[0., 0., 0., 0., 0., 0., 0., 0., 0., 0., 0., 0., 0.]])"
      ]
     },
     "execution_count": 22,
     "metadata": {},
     "output_type": "execute_result"
    }
   ],
   "source": []
  },
  {
   "cell_type": "code",
   "execution_count": null,
   "id": "5a4f24ad-76a3-4c91-856c-678ca1496346",
   "metadata": {},
   "outputs": [],
   "source": []
  }
 ],
 "metadata": {
  "kernelspec": {
   "display_name": "Python 3 (ipykernel)",
   "language": "python",
   "name": "python3"
  },
  "language_info": {
   "codemirror_mode": {
    "name": "ipython",
    "version": 3
   },
   "file_extension": ".py",
   "mimetype": "text/x-python",
   "name": "python",
   "nbconvert_exporter": "python",
   "pygments_lexer": "ipython3",
   "version": "3.11.7"
  }
 },
 "nbformat": 4,
 "nbformat_minor": 5
}
